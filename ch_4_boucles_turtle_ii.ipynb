{
  "cells": [
    {
      "cell_type": "markdown",
      "metadata": {
        "id": "view-in-github",
        "colab_type": "text"
      },
      "source": [
        "<a href=\"https://colab.research.google.com/github/smoreau10/EssaiImagesProjetColab1/blob/main/ch_4_boucles_turtle_ii.ipynb\" target=\"_parent\"><img src=\"https://colab.research.google.com/assets/colab-badge.svg\" alt=\"Open In Colab\"/></a>"
      ]
    },
    {
      "metadata": {
        "trusted": false,
        "id": "WmbdC7f1poaC"
      },
      "cell_type": "markdown",
      "source": [
        "<div style=\"padding:10px ;border:solid 4px navy; border-radius: 10px; background-color:lightblue;\">\n",
        "    \n",
        "<table width = 100%>\n",
        "    <tr>\n",
        "        <td width = 20% style=\"text-align: left; font-size: large;font-weight: bold; background-color:lightblue;\"> Secondes SNT </td>\n",
        "        <td width = 60% style=\"text-align: center; font-size: xx-large;font-weight: bold; background-color:lightblue;\"> Notions transversales de programmation<br>Boucles imbriquées</td>\n",
        "        <td style=\"text-align: left; font-size: xx-large;font-weight: bold; background-color:lightblue;\" > <img src =\"https://snt.lyceebrizeuxquimper.fr/documents/icones/pyt.png\"> </td>\n",
        "    </tr>\n",
        "</table>\n",
        "</div>\n",
        "\n",
        "</tbody>\n",
        "</table>"
      ]
    },
    {
      "metadata": {
        "id": "A6PfZLIlpoaH"
      },
      "cell_type": "markdown",
      "source": [
        "# __Sommaire :__\n",
        "\n",
        "1. [Rappel : Boucles simples](#nb)\n",
        "2. [Boucles imbriquées](#bf)\n",
        "    1.  [Un exemple](#uex)\n",
        "    1.  [Exercices](#ex)\n",
        "3. [Utilisation de la variable d'une boucle dans l'autre](#uvba)\n",
        "    1.  [Un exemple](#uex2)\n",
        "    1.  [Exercices](#ex2)"
      ]
    },
    {
      "metadata": {
        "id": "1jogrHkZpoaI"
      },
      "cell_type": "markdown",
      "source": [
        "<div class = \"alert alert-info\" style=\"border-left:15px solid #31708f;\">\n",
        "\n",
        "# 1 - Rappel : Boucles simples <a name=\"nb\"></a>\n",
        "    \n",
        "</div>\n",
        "\n",
        "Une boucle simple se code de la manière suivante par exemple :\n",
        "\n",
        "```Python\n",
        "    for i in range(4):\n",
        "        instruction 1\n",
        "        instruction 2\n",
        "        instruction 3\n",
        "```\n",
        "\n",
        "\n",
        "Un exemple utilisant le module Turtle :\n",
        "\n",
        "\n"
      ]
    },
    {
      "metadata": {
        "trusted": true,
        "id": "6iaglUs2poaJ",
        "outputId": "8b7c82b9-9348-4bc0-b05e-cc334c139cac"
      },
      "cell_type": "code",
      "source": [
        "from turtle import * # Importation de la bibliothèque turtle\n",
        "\n",
        "setworldcoordinates(0, 0, 11, 11)\n",
        "bgcolor(\"yellow\")\n",
        "width(3)\n",
        "up()\n",
        "\n",
        "\n",
        "for i in range(10): # la boucle va tourner 10 fois\n",
        "    goto(i,i)\n",
        "    down()\n",
        "    dot(20,\"red\")\n",
        "    up()\n",
        "\n",
        "hideturtle()\n",
        "\n",
        "done()"
      ],
      "execution_count": null,
      "outputs": [
        {
          "output_type": "display_data",
          "data": {
            "image/svg+xml": "<svg xmlns=\"http://www.w3.org/2000/svg\" width=\"50%\" height=\"auto\" preserveaspectratio=\"xMidYMid slice\" viewbox=\"0 0 640 480\"><animate id=\"af_68bc5d39094a486298f34f5851f1481b_0\" attributename=\"opacity\" attributetype=\"CSS\" from=\"1\" to=\"1\" begin=\"0s\" dur=\"1ms\" fill=\"freeze\"></animate><g transform=\"translate(0 480)\"><rect x=\"0\" y=\"-480\" width=\"640\" height=\"480\" fill=\"yellow\" style=\"display: none;\"><animate id=\"af_68bc5d39094a486298f34f5851f1481b_1\" attributename=\"display\" attributetype=\"CSS\" from=\"block\" to=\"block\" dur=\"1ms\" fill=\"freeze\" begin=\"af_68bc5d39094a486298f34f5851f1481b_0.end\"></animate></rect></g><g transform=\"translate(0 480)\"><line x1=\"0\" y1=\"0\" x2=\"0\" y2=\"0\" style=\"stroke: black;stroke-width: 1\"><animate id=\"af_68bc5d39094a486298f34f5851f1481b_3\" attributename=\"x2\" attributetype=\"XML\" from=\"0\" to=\"0\" dur=\"1ms\" fill=\"freeze\" begin=\"af_68bc5d39094a486298f34f5851f1481b_2.end\"></animate><animate attributename=\"y2\" attributetype=\"XML\" begin=\"af_68bc5d39094a486298f34f5851f1481b_2.end\" from=\"0\" to=\"0\" dur=\"1ms\" fill=\"freeze\"></animate></line><line x1=\"0\" y1=\"0\" x2=\"0\" y2=\"0\" style=\"stroke: black;stroke-width: 3\" opacity=\"0\"><animate id=\"af_68bc5d39094a486298f34f5851f1481b_6\" attributename=\"x2\" attributetype=\"XML\" from=\"0\" to=\"0\" dur=\"1ms\" fill=\"freeze\" begin=\"af_68bc5d39094a486298f34f5851f1481b_5.end\"></animate></line><circle cx=\"0\" cy=\"0\" r=\"10\" fill=\"red\" style=\"display: none;\"><animate id=\"af_68bc5d39094a486298f34f5851f1481b_7\" attributename=\"display\" attributetype=\"CSS\" from=\"block\" to=\"block\" dur=\"1ms\" fill=\"freeze\" begin=\"af_68bc5d39094a486298f34f5851f1481b_6.end\"></animate></circle><line x1=\"0\" y1=\"0\" x2=\"0\" y2=\"0\" style=\"stroke: black;stroke-width: 3\" opacity=\"0\"><animate id=\"af_68bc5d39094a486298f34f5851f1481b_8\" attributename=\"x2\" attributetype=\"XML\" from=\"0\" to=\"43.63636363636363\" dur=\" 0.011s\" fill=\"freeze\" begin=\"af_68bc5d39094a486298f34f5851f1481b_7.end\"></animate></line><circle cx=\"43.63636363636363\" cy=\"-43.63636363636363\" r=\"10\" fill=\"red\" style=\"display: none;\"><animate id=\"af_68bc5d39094a486298f34f5851f1481b_9\" attributename=\"display\" attributetype=\"CSS\" from=\"block\" to=\"block\" dur=\"1ms\" fill=\"freeze\" begin=\"af_68bc5d39094a486298f34f5851f1481b_8.end\"></animate></circle><line x1=\"43.63636363636363\" y1=\"-43.63636363636363\" x2=\"43.63636363636363\" y2=\"-43.63636363636363\" style=\"stroke: black;stroke-width: 3\" opacity=\"0\"><animate id=\"af_68bc5d39094a486298f34f5851f1481b_10\" attributename=\"x2\" attributetype=\"XML\" from=\"43.63636363636363\" to=\"87.27272727272727\" dur=\" 0.011s\" fill=\"freeze\" begin=\"af_68bc5d39094a486298f34f5851f1481b_9.end\"></animate></line><circle cx=\"87.27272727272727\" cy=\"-87.27272727272727\" r=\"10\" fill=\"red\" style=\"display: none;\"><animate id=\"af_68bc5d39094a486298f34f5851f1481b_11\" attributename=\"display\" attributetype=\"CSS\" from=\"block\" to=\"block\" dur=\"1ms\" fill=\"freeze\" begin=\"af_68bc5d39094a486298f34f5851f1481b_10.end\"></animate></circle><line x1=\"87.27272727272727\" y1=\"-87.27272727272727\" x2=\"87.27272727272727\" y2=\"-87.27272727272727\" style=\"stroke: black;stroke-width: 3\" opacity=\"0\"><animate id=\"af_68bc5d39094a486298f34f5851f1481b_12\" attributename=\"x2\" attributetype=\"XML\" from=\"87.27272727272727\" to=\"130.9090909090909\" dur=\" 0.011s\" fill=\"freeze\" begin=\"af_68bc5d39094a486298f34f5851f1481b_11.end\"></animate></line><circle cx=\"130.9090909090909\" cy=\"-130.9090909090909\" r=\"10\" fill=\"red\" style=\"display: none;\"><animate id=\"af_68bc5d39094a486298f34f5851f1481b_13\" attributename=\"display\" attributetype=\"CSS\" from=\"block\" to=\"block\" dur=\"1ms\" fill=\"freeze\" begin=\"af_68bc5d39094a486298f34f5851f1481b_12.end\"></animate></circle><line x1=\"130.9090909090909\" y1=\"-130.9090909090909\" x2=\"130.9090909090909\" y2=\"-130.9090909090909\" style=\"stroke: black;stroke-width: 3\" opacity=\"0\"><animate id=\"af_68bc5d39094a486298f34f5851f1481b_14\" attributename=\"x2\" attributetype=\"XML\" from=\"130.9090909090909\" to=\"174.54545454545453\" dur=\" 0.011s\" fill=\"freeze\" begin=\"af_68bc5d39094a486298f34f5851f1481b_13.end\"></animate></line><circle cx=\"174.54545454545453\" cy=\"-174.54545454545453\" r=\"10\" fill=\"red\" style=\"display: none;\"><animate id=\"af_68bc5d39094a486298f34f5851f1481b_15\" attributename=\"display\" attributetype=\"CSS\" from=\"block\" to=\"block\" dur=\"1ms\" fill=\"freeze\" begin=\"af_68bc5d39094a486298f34f5851f1481b_14.end\"></animate></circle><line x1=\"174.54545454545453\" y1=\"-174.54545454545453\" x2=\"174.54545454545453\" y2=\"-174.54545454545453\" style=\"stroke: black;stroke-width: 3\" opacity=\"0\"><animate id=\"af_68bc5d39094a486298f34f5851f1481b_16\" attributename=\"x2\" attributetype=\"XML\" from=\"174.54545454545453\" to=\"218.18181818181816\" dur=\" 0.011s\" fill=\"freeze\" begin=\"af_68bc5d39094a486298f34f5851f1481b_15.end\"></animate></line><circle cx=\"218.18181818181816\" cy=\"-218.18181818181816\" r=\"10\" fill=\"red\" style=\"display: none;\"><animate id=\"af_68bc5d39094a486298f34f5851f1481b_17\" attributename=\"display\" attributetype=\"CSS\" from=\"block\" to=\"block\" dur=\"1ms\" fill=\"freeze\" begin=\"af_68bc5d39094a486298f34f5851f1481b_16.end\"></animate></circle><line x1=\"218.18181818181816\" y1=\"-218.18181818181816\" x2=\"218.18181818181816\" y2=\"-218.18181818181816\" style=\"stroke: black;stroke-width: 3\" opacity=\"0\"><animate id=\"af_68bc5d39094a486298f34f5851f1481b_18\" attributename=\"x2\" attributetype=\"XML\" from=\"218.18181818181816\" to=\"261.8181818181818\" dur=\" 0.011s\" fill=\"freeze\" begin=\"af_68bc5d39094a486298f34f5851f1481b_17.end\"></animate></line><circle cx=\"261.8181818181818\" cy=\"-261.8181818181818\" r=\"10\" fill=\"red\" style=\"display: none;\"><animate id=\"af_68bc5d39094a486298f34f5851f1481b_19\" attributename=\"display\" attributetype=\"CSS\" from=\"block\" to=\"block\" dur=\"1ms\" fill=\"freeze\" begin=\"af_68bc5d39094a486298f34f5851f1481b_18.end\"></animate></circle><line x1=\"261.8181818181818\" y1=\"-261.8181818181818\" x2=\"261.8181818181818\" y2=\"-261.8181818181818\" style=\"stroke: black;stroke-width: 3\" opacity=\"0\"><animate id=\"af_68bc5d39094a486298f34f5851f1481b_20\" attributename=\"x2\" attributetype=\"XML\" from=\"261.8181818181818\" to=\"305.45454545454544\" dur=\" 0.011s\" fill=\"freeze\" begin=\"af_68bc5d39094a486298f34f5851f1481b_19.end\"></animate></line><circle cx=\"305.45454545454544\" cy=\"-305.45454545454544\" r=\"10\" fill=\"red\" style=\"display: none;\"><animate id=\"af_68bc5d39094a486298f34f5851f1481b_21\" attributename=\"display\" attributetype=\"CSS\" from=\"block\" to=\"block\" dur=\"1ms\" fill=\"freeze\" begin=\"af_68bc5d39094a486298f34f5851f1481b_20.end\"></animate></circle><line x1=\"305.45454545454544\" y1=\"-305.45454545454544\" x2=\"305.45454545454544\" y2=\"-305.45454545454544\" style=\"stroke: black;stroke-width: 3\" opacity=\"0\"><animate id=\"af_68bc5d39094a486298f34f5851f1481b_22\" attributename=\"x2\" attributetype=\"XML\" from=\"305.45454545454544\" to=\"349.09090909090907\" dur=\" 0.011s\" fill=\"freeze\" begin=\"af_68bc5d39094a486298f34f5851f1481b_21.end\"></animate></line><circle cx=\"349.09090909090907\" cy=\"-349.09090909090907\" r=\"10\" fill=\"red\" style=\"display: none;\"><animate id=\"af_68bc5d39094a486298f34f5851f1481b_23\" attributename=\"display\" attributetype=\"CSS\" from=\"block\" to=\"block\" dur=\"1ms\" fill=\"freeze\" begin=\"af_68bc5d39094a486298f34f5851f1481b_22.end\"></animate></circle><line x1=\"349.09090909090907\" y1=\"-349.09090909090907\" x2=\"349.09090909090907\" y2=\"-349.09090909090907\" style=\"stroke: black;stroke-width: 3\" opacity=\"0\"><animate id=\"af_68bc5d39094a486298f34f5851f1481b_24\" attributename=\"x2\" attributetype=\"XML\" from=\"349.09090909090907\" to=\"392.7272727272727\" dur=\" 0.011s\" fill=\"freeze\" begin=\"af_68bc5d39094a486298f34f5851f1481b_23.end\"></animate></line><circle cx=\"392.7272727272727\" cy=\"-392.7272727272727\" r=\"10\" fill=\"red\" style=\"display: none;\"><animate id=\"af_68bc5d39094a486298f34f5851f1481b_25\" attributename=\"display\" attributetype=\"CSS\" from=\"block\" to=\"block\" dur=\"1ms\" fill=\"freeze\" begin=\"af_68bc5d39094a486298f34f5851f1481b_24.end\"></animate></circle><line x1=\"392.7272727272727\" y1=\"-392.7272727272727\" x2=\"392.7272727272727\" y2=\"-392.7272727272727\" style=\"stroke: black;stroke-width: 3\" opacity=\"0\"><animate id=\"af_68bc5d39094a486298f34f5851f1481b_27\" attributename=\"x2\" attributetype=\"XML\" from=\"392.7272727272727\" to=\"392.7272727272727\" dur=\"1ms\" fill=\"freeze\" begin=\"af_68bc5d39094a486298f34f5851f1481b_26.end\"></animate></line></g><g transform=\"translate(0 480)\"></g><g transform=\"translate(0 480)\"><polygon points=\"0,16 -2,14 -1,10 -4,7 -7,9 -9,8 -6,5 -7,1 -5,-3 -8,-6 -6,-8 -4,-5 0,-7 4,-5 6,-8 8,-6 5,-3 7,1 6,5 9,8 7,9 4,7 1,10 2,14\" stroke=\"black\" fill=\"black\" stroke-width=\"1\" opacity=\"0\"><animate id=\"af_68bc5d39094a486298f34f5851f1481b_2\" begin=\"af_68bc5d39094a486298f34f5851f1481b_1.end\" dur=\"1ms\" fill=\"freeze\" attributename=\"opacity\" attributetype=\"XML\" from=\"0\" to=\"1\"></animate><animateMotion begin=\"af_68bc5d39094a486298f34f5851f1481b_3.end\" dur=\"1ms\" fill=\"remove\"></animateMotion><animateTransform attributename=\"transform\" id=\"af_68bc5d39094a486298f34f5851f1481b_4\" type=\"rotate\" from=\"0,0,0\" to=\"0.0,0,0\" begin=\"af_68bc5d39094a486298f34f5851f1481b_3.end\" dur=\"1ms\" fill=\"freeze\"></animateTransform><animateMotion begin=\"af_68bc5d39094a486298f34f5851f1481b_4.end\" dur=\"1ms\" fill=\"remove\"></animateMotion><animateTransform attributename=\"transform\" id=\"af_68bc5d39094a486298f34f5851f1481b_5\" type=\"rotate\" from=\"-90.0,0,0\" to=\"-90.0,0,0\" begin=\"af_68bc5d39094a486298f34f5851f1481b_4.end\" dur=\"1ms\" fill=\"freeze\"></animateTransform><animateMotion begin=\"af_68bc5d39094a486298f34f5851f1481b_5.end\" dur=\"1ms\" fill=\"remove\"></animateMotion><animateMotion from=\"0.0,-0.0\" to=\"0.0,0.0\" dur=\"1ms\" begin=\"af_68bc5d39094a486298f34f5851f1481b_5.end\" fill=\"freeze\"></animateMotion><animateMotion begin=\"af_68bc5d39094a486298f34f5851f1481b_7.end\" dur=\"1ms\" fill=\"remove\"></animateMotion><animateMotion from=\"0.0,0.0\" to=\"43.63636363636363,-43.63636363636363\" dur=\" 0.011s\" begin=\"af_68bc5d39094a486298f34f5851f1481b_7.end\" fill=\"freeze\"></animateMotion><animateMotion begin=\"af_68bc5d39094a486298f34f5851f1481b_9.end\" dur=\"1ms\" fill=\"remove\"></animateMotion><animateMotion from=\"43.63636363636363,-43.63636363636363\" to=\"87.27272727272727,-87.27272727272727\" dur=\" 0.011s\" begin=\"af_68bc5d39094a486298f34f5851f1481b_9.end\" fill=\"freeze\"></animateMotion><animateMotion begin=\"af_68bc5d39094a486298f34f5851f1481b_11.end\" dur=\"1ms\" fill=\"remove\"></animateMotion><animateMotion from=\"87.27272727272727,-87.27272727272727\" to=\"130.9090909090909,-130.9090909090909\" dur=\" 0.011s\" begin=\"af_68bc5d39094a486298f34f5851f1481b_11.end\" fill=\"freeze\"></animateMotion><animateMotion begin=\"af_68bc5d39094a486298f34f5851f1481b_13.end\" dur=\"1ms\" fill=\"remove\"></animateMotion><animateMotion from=\"130.9090909090909,-130.9090909090909\" to=\"174.54545454545453,-174.54545454545453\" dur=\" 0.011s\" begin=\"af_68bc5d39094a486298f34f5851f1481b_13.end\" fill=\"freeze\"></animateMotion><animateMotion begin=\"af_68bc5d39094a486298f34f5851f1481b_15.end\" dur=\"1ms\" fill=\"remove\"></animateMotion><animateMotion from=\"174.54545454545453,-174.54545454545453\" to=\"218.18181818181816,-218.18181818181816\" dur=\" 0.011s\" begin=\"af_68bc5d39094a486298f34f5851f1481b_15.end\" fill=\"freeze\"></animateMotion><animateMotion begin=\"af_68bc5d39094a486298f34f5851f1481b_17.end\" dur=\"1ms\" fill=\"remove\"></animateMotion><animateMotion from=\"218.18181818181816,-218.18181818181816\" to=\"261.8181818181818,-261.8181818181818\" dur=\" 0.011s\" begin=\"af_68bc5d39094a486298f34f5851f1481b_17.end\" fill=\"freeze\"></animateMotion><animateMotion begin=\"af_68bc5d39094a486298f34f5851f1481b_19.end\" dur=\"1ms\" fill=\"remove\"></animateMotion><animateMotion from=\"261.8181818181818,-261.8181818181818\" to=\"305.45454545454544,-305.45454545454544\" dur=\" 0.011s\" begin=\"af_68bc5d39094a486298f34f5851f1481b_19.end\" fill=\"freeze\"></animateMotion><animateMotion begin=\"af_68bc5d39094a486298f34f5851f1481b_21.end\" dur=\"1ms\" fill=\"remove\"></animateMotion><animateMotion from=\"305.45454545454544,-305.45454545454544\" to=\"349.09090909090907,-349.09090909090907\" dur=\" 0.011s\" begin=\"af_68bc5d39094a486298f34f5851f1481b_21.end\" fill=\"freeze\"></animateMotion><animateMotion begin=\"af_68bc5d39094a486298f34f5851f1481b_23.end\" dur=\"1ms\" fill=\"remove\"></animateMotion><animateMotion from=\"349.09090909090907,-349.09090909090907\" to=\"392.7272727272727,-392.7272727272727\" dur=\" 0.011s\" begin=\"af_68bc5d39094a486298f34f5851f1481b_23.end\" fill=\"freeze\"></animateMotion><animate id=\"af_68bc5d39094a486298f34f5851f1481b_26\" begin=\"af_68bc5d39094a486298f34f5851f1481b_25.end\" dur=\"1ms\" fill=\"freeze\" attributename=\"opacity\" attributetype=\"XML\" from=\"1\" to=\"0\"></animate><animateMotion begin=\"af_68bc5d39094a486298f34f5851f1481b_26.end\" dur=\"1ms\" fill=\"remove\"></animateMotion><animateMotion from=\"392.7272727272727,-392.7272727272727\" to=\"392.7272727272727,-392.7272727272727\" dur=\"1ms\" begin=\"af_68bc5d39094a486298f34f5851f1481b_26.end\" fill=\"freeze\"></animateMotion></polygon></g></svg>"
          },
          "metadata": {}
        }
      ]
    },
    {
      "metadata": {
        "id": "_E1AiHzupoaM"
      },
      "cell_type": "markdown",
      "source": [
        "<div style=\"border-left:5px solid #222222; border-radius: 10px; background-color:Gainsboro;padding:10px ;\">\n",
        "\n",
        "### Exercice 1\n",
        "\n",
        "En utilisant ce principe réaliser les figures suivantes :\n",
        "    \n",
        "<table>\n",
        "    <tr>\n",
        "        <td style=\"text-align: center\">Figure 1</td><td style=\"text-align: center\">Figure 2</td>\n",
        "    </tr>\n",
        "    <tr>\n",
        "        <td><img src =\"/content/points1.JPG\" width=\"200\" heigth=\"200\"></td>\n",
        "        <td><img src =\"/content/points2.JPG\" width=\"200\" heigth=\"200\"></td>   \n",
        "    </tr>\n",
        "</table>"
      ]
    },
    {
      "metadata": {
        "trusted": false,
        "id": "2ePHPP5IpoaN"
      },
      "cell_type": "code",
      "source": [
        "# Figure 1"
      ],
      "execution_count": null,
      "outputs": []
    },
    {
      "metadata": {
        "trusted": false,
        "id": "7a2fpDWtpoaO"
      },
      "cell_type": "code",
      "source": [
        "# Figure 2"
      ],
      "execution_count": null,
      "outputs": []
    },
    {
      "metadata": {
        "trusted": true,
        "id": "CuoYVJCnpoaQ"
      },
      "cell_type": "markdown",
      "source": [
        "<div class = \"alert alert-info\" style=\"border-left:15px solid #31708f;\">\n",
        "\n",
        "# 2 - Boucles imbriquées <a name=\"bf\"></a>\n",
        "    \n",
        "</div>\n",
        "\n",
        "<div class = \"alert  alert-success\" style=\"border-left: 15px solid #3c763d;\">\n",
        "\n",
        "\n",
        "\n",
        "\n",
        "\n",
        "## A - Un exemple <a name=\"uex\"></a>\n",
        "    \n",
        "</div>\n",
        "\n",
        "Nous voulons réaliser le dessin suivant :\n",
        "\n",
        "<img src =\"https://capytale2.ac-paris.fr/web/sites/default/files/2022/12-08/14-01-34/points3.JPG\" width=\"200\" heigth=\"200\">\n",
        "\n",
        "Il s'agit donc de réaliser trois \"colonnes\" de chacunes 5 points :\n",
        "\n",
        "* Première colonne : Les points de coordonnées :$(0,0) ; (0,1) ; (0,2) ; (0,3) ; (0,4)$\n",
        "* Deuxième colonne : Les points de coordonnées :$(1,0) ; (1,1) ; (1,2) ; (1,3) ; (1,4)$\n",
        "* Troisième colonne : Les points de coordonnées :$(2,0) ; (2,1) ; (2,2) ; (2,3) ; (2,4)$\n",
        "\n",
        "Comment procéder ?\n",
        "\n",
        "Nous allons utiliser deux boucles `for`imbriquées.\n",
        "\n",
        "Exécutez le code suivant :\n",
        "\n"
      ]
    },
    {
      "metadata": {
        "trusted": true,
        "id": "CHGBmCJrpoaR",
        "outputId": "0bcf7e13-666f-419e-c639-680f2b3d6a31"
      },
      "cell_type": "code",
      "source": [
        "for i in range(3):\n",
        "    for j in range(5):\n",
        "        print(i,j)"
      ],
      "execution_count": null,
      "outputs": [
        {
          "output_type": "stream",
          "text": "0 0\n0 1\n0 2\n0 3\n0 4\n1 0\n1 1\n1 2\n1 3\n1 4\n2 0\n2 1\n2 2\n2 3\n2 4\n",
          "name": "stdout"
        }
      ]
    },
    {
      "metadata": {
        "id": "wU05sqG8poaT"
      },
      "cell_type": "markdown",
      "source": [
        "Nous allons donc utiliser ce principe dans Turtle"
      ]
    },
    {
      "metadata": {
        "trusted": true,
        "id": "3qUI3rUDpoaU",
        "outputId": "c090962e-acaf-47a0-8a1e-c2121a4ff958"
      },
      "cell_type": "code",
      "source": [
        "from turtle import * # Importation de la bibliothèque turtle\n",
        "\n",
        "setworldcoordinates(0, 0, 11, 11)\n",
        "bgcolor(\"yellow\")\n",
        "width(3)\n",
        "up()\n",
        "\n",
        "\n",
        "for i in range(3):      # Colonnes de 0 à 2\n",
        "    for j in range(5):  # Lignes de 0 à 4\n",
        "        goto(i,j)\n",
        "        down()\n",
        "        dot(20,\"red\")\n",
        "        up()\n",
        "\n",
        "hideturtle()\n",
        "\n",
        "done()"
      ],
      "execution_count": null,
      "outputs": [
        {
          "output_type": "display_data",
          "data": {
            "image/svg+xml": "<svg xmlns=\"http://www.w3.org/2000/svg\" width=\"50%\" height=\"auto\" preserveaspectratio=\"xMidYMid slice\" viewbox=\"0 0 640 480\"><animate id=\"af_2c4bea3ff19c4cd68f592dee08c5d321_0\" attributename=\"opacity\" attributetype=\"CSS\" from=\"1\" to=\"1\" begin=\"0s\" dur=\"1ms\" fill=\"freeze\"></animate><g transform=\"translate(0 480)\"><rect x=\"0\" y=\"-480\" width=\"640\" height=\"480\" fill=\"yellow\" style=\"display: none;\"><animate id=\"af_2c4bea3ff19c4cd68f592dee08c5d321_1\" attributename=\"display\" attributetype=\"CSS\" from=\"block\" to=\"block\" dur=\"1ms\" fill=\"freeze\" begin=\"af_2c4bea3ff19c4cd68f592dee08c5d321_0.end\"></animate></rect></g><g transform=\"translate(0 480)\"><line x1=\"0\" y1=\"0\" x2=\"0\" y2=\"0\" style=\"stroke: black;stroke-width: 1\"><animate id=\"af_2c4bea3ff19c4cd68f592dee08c5d321_3\" attributename=\"x2\" attributetype=\"XML\" from=\"0\" to=\"0\" dur=\"1ms\" fill=\"freeze\" begin=\"af_2c4bea3ff19c4cd68f592dee08c5d321_2.end\"></animate><animate attributename=\"y2\" attributetype=\"XML\" begin=\"af_2c4bea3ff19c4cd68f592dee08c5d321_2.end\" from=\"0\" to=\"0\" dur=\"1ms\" fill=\"freeze\"></animate></line><line x1=\"0\" y1=\"0\" x2=\"0\" y2=\"0\" style=\"stroke: black;stroke-width: 3\" opacity=\"0\"><animate id=\"af_2c4bea3ff19c4cd68f592dee08c5d321_6\" attributename=\"x2\" attributetype=\"XML\" from=\"0\" to=\"0\" dur=\"1ms\" fill=\"freeze\" begin=\"af_2c4bea3ff19c4cd68f592dee08c5d321_5.end\"></animate></line><circle cx=\"0\" cy=\"0\" r=\"10\" fill=\"red\" style=\"display: none;\"><animate id=\"af_2c4bea3ff19c4cd68f592dee08c5d321_7\" attributename=\"display\" attributetype=\"CSS\" from=\"block\" to=\"block\" dur=\"1ms\" fill=\"freeze\" begin=\"af_2c4bea3ff19c4cd68f592dee08c5d321_6.end\"></animate></circle><line x1=\"0\" y1=\"0\" x2=\"0\" y2=\"0\" style=\"stroke: black;stroke-width: 3\" opacity=\"0\"><animate id=\"af_2c4bea3ff19c4cd68f592dee08c5d321_8\" attributename=\"x2\" attributetype=\"XML\" from=\"0\" to=\"0\" dur=\" 0.005s\" fill=\"freeze\" begin=\"af_2c4bea3ff19c4cd68f592dee08c5d321_7.end\"></animate></line><circle cx=\"0\" cy=\"-43.63636363636363\" r=\"10\" fill=\"red\" style=\"display: none;\"><animate id=\"af_2c4bea3ff19c4cd68f592dee08c5d321_9\" attributename=\"display\" attributetype=\"CSS\" from=\"block\" to=\"block\" dur=\"1ms\" fill=\"freeze\" begin=\"af_2c4bea3ff19c4cd68f592dee08c5d321_8.end\"></animate></circle><line x1=\"0\" y1=\"-43.63636363636363\" x2=\"0\" y2=\"-43.63636363636363\" style=\"stroke: black;stroke-width: 3\" opacity=\"0\"><animate id=\"af_2c4bea3ff19c4cd68f592dee08c5d321_10\" attributename=\"x2\" attributetype=\"XML\" from=\"0\" to=\"0\" dur=\" 0.005s\" fill=\"freeze\" begin=\"af_2c4bea3ff19c4cd68f592dee08c5d321_9.end\"></animate></line><circle cx=\"0\" cy=\"-87.27272727272727\" r=\"10\" fill=\"red\" style=\"display: none;\"><animate id=\"af_2c4bea3ff19c4cd68f592dee08c5d321_11\" attributename=\"display\" attributetype=\"CSS\" from=\"block\" to=\"block\" dur=\"1ms\" fill=\"freeze\" begin=\"af_2c4bea3ff19c4cd68f592dee08c5d321_10.end\"></animate></circle><line x1=\"0\" y1=\"-87.27272727272727\" x2=\"0\" y2=\"-87.27272727272727\" style=\"stroke: black;stroke-width: 3\" opacity=\"0\"><animate id=\"af_2c4bea3ff19c4cd68f592dee08c5d321_12\" attributename=\"x2\" attributetype=\"XML\" from=\"0\" to=\"0\" dur=\" 0.005s\" fill=\"freeze\" begin=\"af_2c4bea3ff19c4cd68f592dee08c5d321_11.end\"></animate></line><circle cx=\"0\" cy=\"-130.9090909090909\" r=\"10\" fill=\"red\" style=\"display: none;\"><animate id=\"af_2c4bea3ff19c4cd68f592dee08c5d321_13\" attributename=\"display\" attributetype=\"CSS\" from=\"block\" to=\"block\" dur=\"1ms\" fill=\"freeze\" begin=\"af_2c4bea3ff19c4cd68f592dee08c5d321_12.end\"></animate></circle><line x1=\"0\" y1=\"-130.9090909090909\" x2=\"0\" y2=\"-130.9090909090909\" style=\"stroke: black;stroke-width: 3\" opacity=\"0\"><animate id=\"af_2c4bea3ff19c4cd68f592dee08c5d321_14\" attributename=\"x2\" attributetype=\"XML\" from=\"0\" to=\"0\" dur=\" 0.005s\" fill=\"freeze\" begin=\"af_2c4bea3ff19c4cd68f592dee08c5d321_13.end\"></animate></line><circle cx=\"0\" cy=\"-174.54545454545453\" r=\"10\" fill=\"red\" style=\"display: none;\"><animate id=\"af_2c4bea3ff19c4cd68f592dee08c5d321_15\" attributename=\"display\" attributetype=\"CSS\" from=\"block\" to=\"block\" dur=\"1ms\" fill=\"freeze\" begin=\"af_2c4bea3ff19c4cd68f592dee08c5d321_14.end\"></animate></circle><line x1=\"0\" y1=\"-174.54545454545453\" x2=\"0\" y2=\"-174.54545454545453\" style=\"stroke: black;stroke-width: 3\" opacity=\"0\"><animate id=\"af_2c4bea3ff19c4cd68f592dee08c5d321_16\" attributename=\"x2\" attributetype=\"XML\" from=\"0\" to=\"43.63636363636363\" dur=\" 0.027s\" fill=\"freeze\" begin=\"af_2c4bea3ff19c4cd68f592dee08c5d321_15.end\"></animate></line><circle cx=\"43.63636363636363\" cy=\"0\" r=\"10\" fill=\"red\" style=\"display: none;\"><animate id=\"af_2c4bea3ff19c4cd68f592dee08c5d321_17\" attributename=\"display\" attributetype=\"CSS\" from=\"block\" to=\"block\" dur=\"1ms\" fill=\"freeze\" begin=\"af_2c4bea3ff19c4cd68f592dee08c5d321_16.end\"></animate></circle><line x1=\"43.63636363636363\" y1=\"0\" x2=\"43.63636363636363\" y2=\"0\" style=\"stroke: black;stroke-width: 3\" opacity=\"0\"><animate id=\"af_2c4bea3ff19c4cd68f592dee08c5d321_18\" attributename=\"x2\" attributetype=\"XML\" from=\"43.63636363636363\" to=\"43.63636363636363\" dur=\" 0.005s\" fill=\"freeze\" begin=\"af_2c4bea3ff19c4cd68f592dee08c5d321_17.end\"></animate></line><circle cx=\"43.63636363636363\" cy=\"-43.63636363636363\" r=\"10\" fill=\"red\" style=\"display: none;\"><animate id=\"af_2c4bea3ff19c4cd68f592dee08c5d321_19\" attributename=\"display\" attributetype=\"CSS\" from=\"block\" to=\"block\" dur=\"1ms\" fill=\"freeze\" begin=\"af_2c4bea3ff19c4cd68f592dee08c5d321_18.end\"></animate></circle><line x1=\"43.63636363636363\" y1=\"-43.63636363636363\" x2=\"43.63636363636363\" y2=\"-43.63636363636363\" style=\"stroke: black;stroke-width: 3\" opacity=\"0\"><animate id=\"af_2c4bea3ff19c4cd68f592dee08c5d321_20\" attributename=\"x2\" attributetype=\"XML\" from=\"43.63636363636363\" to=\"43.63636363636363\" dur=\" 0.005s\" fill=\"freeze\" begin=\"af_2c4bea3ff19c4cd68f592dee08c5d321_19.end\"></animate></line><circle cx=\"43.63636363636363\" cy=\"-87.27272727272727\" r=\"10\" fill=\"red\" style=\"display: none;\"><animate id=\"af_2c4bea3ff19c4cd68f592dee08c5d321_21\" attributename=\"display\" attributetype=\"CSS\" from=\"block\" to=\"block\" dur=\"1ms\" fill=\"freeze\" begin=\"af_2c4bea3ff19c4cd68f592dee08c5d321_20.end\"></animate></circle><line x1=\"43.63636363636363\" y1=\"-87.27272727272727\" x2=\"43.63636363636363\" y2=\"-87.27272727272727\" style=\"stroke: black;stroke-width: 3\" opacity=\"0\"><animate id=\"af_2c4bea3ff19c4cd68f592dee08c5d321_22\" attributename=\"x2\" attributetype=\"XML\" from=\"43.63636363636363\" to=\"43.63636363636363\" dur=\" 0.005s\" fill=\"freeze\" begin=\"af_2c4bea3ff19c4cd68f592dee08c5d321_21.end\"></animate></line><circle cx=\"43.63636363636363\" cy=\"-130.9090909090909\" r=\"10\" fill=\"red\" style=\"display: none;\"><animate id=\"af_2c4bea3ff19c4cd68f592dee08c5d321_23\" attributename=\"display\" attributetype=\"CSS\" from=\"block\" to=\"block\" dur=\"1ms\" fill=\"freeze\" begin=\"af_2c4bea3ff19c4cd68f592dee08c5d321_22.end\"></animate></circle><line x1=\"43.63636363636363\" y1=\"-130.9090909090909\" x2=\"43.63636363636363\" y2=\"-130.9090909090909\" style=\"stroke: black;stroke-width: 3\" opacity=\"0\"><animate id=\"af_2c4bea3ff19c4cd68f592dee08c5d321_24\" attributename=\"x2\" attributetype=\"XML\" from=\"43.63636363636363\" to=\"43.63636363636363\" dur=\" 0.005s\" fill=\"freeze\" begin=\"af_2c4bea3ff19c4cd68f592dee08c5d321_23.end\"></animate></line><circle cx=\"43.63636363636363\" cy=\"-174.54545454545453\" r=\"10\" fill=\"red\" style=\"display: none;\"><animate id=\"af_2c4bea3ff19c4cd68f592dee08c5d321_25\" attributename=\"display\" attributetype=\"CSS\" from=\"block\" to=\"block\" dur=\"1ms\" fill=\"freeze\" begin=\"af_2c4bea3ff19c4cd68f592dee08c5d321_24.end\"></animate></circle><line x1=\"43.63636363636363\" y1=\"-174.54545454545453\" x2=\"43.63636363636363\" y2=\"-174.54545454545453\" style=\"stroke: black;stroke-width: 3\" opacity=\"0\"><animate id=\"af_2c4bea3ff19c4cd68f592dee08c5d321_26\" attributename=\"x2\" attributetype=\"XML\" from=\"43.63636363636363\" to=\"87.27272727272727\" dur=\" 0.027s\" fill=\"freeze\" begin=\"af_2c4bea3ff19c4cd68f592dee08c5d321_25.end\"></animate></line><circle cx=\"87.27272727272727\" cy=\"0\" r=\"10\" fill=\"red\" style=\"display: none;\"><animate id=\"af_2c4bea3ff19c4cd68f592dee08c5d321_27\" attributename=\"display\" attributetype=\"CSS\" from=\"block\" to=\"block\" dur=\"1ms\" fill=\"freeze\" begin=\"af_2c4bea3ff19c4cd68f592dee08c5d321_26.end\"></animate></circle><line x1=\"87.27272727272727\" y1=\"0\" x2=\"87.27272727272727\" y2=\"0\" style=\"stroke: black;stroke-width: 3\" opacity=\"0\"><animate id=\"af_2c4bea3ff19c4cd68f592dee08c5d321_28\" attributename=\"x2\" attributetype=\"XML\" from=\"87.27272727272727\" to=\"87.27272727272727\" dur=\" 0.005s\" fill=\"freeze\" begin=\"af_2c4bea3ff19c4cd68f592dee08c5d321_27.end\"></animate></line><circle cx=\"87.27272727272727\" cy=\"-43.63636363636363\" r=\"10\" fill=\"red\" style=\"display: none;\"><animate id=\"af_2c4bea3ff19c4cd68f592dee08c5d321_29\" attributename=\"display\" attributetype=\"CSS\" from=\"block\" to=\"block\" dur=\"1ms\" fill=\"freeze\" begin=\"af_2c4bea3ff19c4cd68f592dee08c5d321_28.end\"></animate></circle><line x1=\"87.27272727272727\" y1=\"-43.63636363636363\" x2=\"87.27272727272727\" y2=\"-43.63636363636363\" style=\"stroke: black;stroke-width: 3\" opacity=\"0\"><animate id=\"af_2c4bea3ff19c4cd68f592dee08c5d321_30\" attributename=\"x2\" attributetype=\"XML\" from=\"87.27272727272727\" to=\"87.27272727272727\" dur=\" 0.005s\" fill=\"freeze\" begin=\"af_2c4bea3ff19c4cd68f592dee08c5d321_29.end\"></animate></line><circle cx=\"87.27272727272727\" cy=\"-87.27272727272727\" r=\"10\" fill=\"red\" style=\"display: none;\"><animate id=\"af_2c4bea3ff19c4cd68f592dee08c5d321_31\" attributename=\"display\" attributetype=\"CSS\" from=\"block\" to=\"block\" dur=\"1ms\" fill=\"freeze\" begin=\"af_2c4bea3ff19c4cd68f592dee08c5d321_30.end\"></animate></circle><line x1=\"87.27272727272727\" y1=\"-87.27272727272727\" x2=\"87.27272727272727\" y2=\"-87.27272727272727\" style=\"stroke: black;stroke-width: 3\" opacity=\"0\"><animate id=\"af_2c4bea3ff19c4cd68f592dee08c5d321_32\" attributename=\"x2\" attributetype=\"XML\" from=\"87.27272727272727\" to=\"87.27272727272727\" dur=\" 0.005s\" fill=\"freeze\" begin=\"af_2c4bea3ff19c4cd68f592dee08c5d321_31.end\"></animate></line><circle cx=\"87.27272727272727\" cy=\"-130.9090909090909\" r=\"10\" fill=\"red\" style=\"display: none;\"><animate id=\"af_2c4bea3ff19c4cd68f592dee08c5d321_33\" attributename=\"display\" attributetype=\"CSS\" from=\"block\" to=\"block\" dur=\"1ms\" fill=\"freeze\" begin=\"af_2c4bea3ff19c4cd68f592dee08c5d321_32.end\"></animate></circle><line x1=\"87.27272727272727\" y1=\"-130.9090909090909\" x2=\"87.27272727272727\" y2=\"-130.9090909090909\" style=\"stroke: black;stroke-width: 3\" opacity=\"0\"><animate id=\"af_2c4bea3ff19c4cd68f592dee08c5d321_34\" attributename=\"x2\" attributetype=\"XML\" from=\"87.27272727272727\" to=\"87.27272727272727\" dur=\" 0.005s\" fill=\"freeze\" begin=\"af_2c4bea3ff19c4cd68f592dee08c5d321_33.end\"></animate></line><circle cx=\"87.27272727272727\" cy=\"-174.54545454545453\" r=\"10\" fill=\"red\" style=\"display: none;\"><animate id=\"af_2c4bea3ff19c4cd68f592dee08c5d321_35\" attributename=\"display\" attributetype=\"CSS\" from=\"block\" to=\"block\" dur=\"1ms\" fill=\"freeze\" begin=\"af_2c4bea3ff19c4cd68f592dee08c5d321_34.end\"></animate></circle><line x1=\"87.27272727272727\" y1=\"-174.54545454545453\" x2=\"87.27272727272727\" y2=\"-174.54545454545453\" style=\"stroke: black;stroke-width: 3\" opacity=\"0\"><animate id=\"af_2c4bea3ff19c4cd68f592dee08c5d321_37\" attributename=\"x2\" attributetype=\"XML\" from=\"87.27272727272727\" to=\"87.27272727272727\" dur=\"1ms\" fill=\"freeze\" begin=\"af_2c4bea3ff19c4cd68f592dee08c5d321_36.end\"></animate></line></g><g transform=\"translate(0 480)\"></g><g transform=\"translate(0 480)\"><polygon points=\"0,16 -2,14 -1,10 -4,7 -7,9 -9,8 -6,5 -7,1 -5,-3 -8,-6 -6,-8 -4,-5 0,-7 4,-5 6,-8 8,-6 5,-3 7,1 6,5 9,8 7,9 4,7 1,10 2,14\" stroke=\"black\" fill=\"black\" stroke-width=\"1\" opacity=\"0\"><animate id=\"af_2c4bea3ff19c4cd68f592dee08c5d321_2\" begin=\"af_2c4bea3ff19c4cd68f592dee08c5d321_1.end\" dur=\"1ms\" fill=\"freeze\" attributename=\"opacity\" attributetype=\"XML\" from=\"0\" to=\"1\"></animate><animateMotion begin=\"af_2c4bea3ff19c4cd68f592dee08c5d321_3.end\" dur=\"1ms\" fill=\"remove\"></animateMotion><animateTransform attributename=\"transform\" id=\"af_2c4bea3ff19c4cd68f592dee08c5d321_4\" type=\"rotate\" from=\"0,0,0\" to=\"0.0,0,0\" begin=\"af_2c4bea3ff19c4cd68f592dee08c5d321_3.end\" dur=\"1ms\" fill=\"freeze\"></animateTransform><animateMotion begin=\"af_2c4bea3ff19c4cd68f592dee08c5d321_4.end\" dur=\"1ms\" fill=\"remove\"></animateMotion><animateTransform attributename=\"transform\" id=\"af_2c4bea3ff19c4cd68f592dee08c5d321_5\" type=\"rotate\" from=\"-90.0,0,0\" to=\"-90.0,0,0\" begin=\"af_2c4bea3ff19c4cd68f592dee08c5d321_4.end\" dur=\"1ms\" fill=\"freeze\"></animateTransform><animateMotion begin=\"af_2c4bea3ff19c4cd68f592dee08c5d321_5.end\" dur=\"1ms\" fill=\"remove\"></animateMotion><animateMotion from=\"0.0,-0.0\" to=\"0.0,0.0\" dur=\"1ms\" begin=\"af_2c4bea3ff19c4cd68f592dee08c5d321_5.end\" fill=\"freeze\"></animateMotion><animateMotion begin=\"af_2c4bea3ff19c4cd68f592dee08c5d321_7.end\" dur=\"1ms\" fill=\"remove\"></animateMotion><animateMotion from=\"0.0,0.0\" to=\"0.0,-43.63636363636363\" dur=\" 0.005s\" begin=\"af_2c4bea3ff19c4cd68f592dee08c5d321_7.end\" fill=\"freeze\"></animateMotion><animateMotion begin=\"af_2c4bea3ff19c4cd68f592dee08c5d321_9.end\" dur=\"1ms\" fill=\"remove\"></animateMotion><animateMotion from=\"0.0,-43.63636363636363\" to=\"0.0,-87.27272727272727\" dur=\" 0.005s\" begin=\"af_2c4bea3ff19c4cd68f592dee08c5d321_9.end\" fill=\"freeze\"></animateMotion><animateMotion begin=\"af_2c4bea3ff19c4cd68f592dee08c5d321_11.end\" dur=\"1ms\" fill=\"remove\"></animateMotion><animateMotion from=\"0.0,-87.27272727272727\" to=\"0.0,-130.9090909090909\" dur=\" 0.005s\" begin=\"af_2c4bea3ff19c4cd68f592dee08c5d321_11.end\" fill=\"freeze\"></animateMotion><animateMotion begin=\"af_2c4bea3ff19c4cd68f592dee08c5d321_13.end\" dur=\"1ms\" fill=\"remove\"></animateMotion><animateMotion from=\"0.0,-130.9090909090909\" to=\"0.0,-174.54545454545453\" dur=\" 0.005s\" begin=\"af_2c4bea3ff19c4cd68f592dee08c5d321_13.end\" fill=\"freeze\"></animateMotion><animateMotion begin=\"af_2c4bea3ff19c4cd68f592dee08c5d321_15.end\" dur=\"1ms\" fill=\"remove\"></animateMotion><animateMotion from=\"0.0,-174.54545454545453\" to=\"43.63636363636363,0.0\" dur=\" 0.027s\" begin=\"af_2c4bea3ff19c4cd68f592dee08c5d321_15.end\" fill=\"freeze\"></animateMotion><animateMotion begin=\"af_2c4bea3ff19c4cd68f592dee08c5d321_17.end\" dur=\"1ms\" fill=\"remove\"></animateMotion><animateMotion from=\"43.63636363636363,0.0\" to=\"43.63636363636363,-43.63636363636363\" dur=\" 0.005s\" begin=\"af_2c4bea3ff19c4cd68f592dee08c5d321_17.end\" fill=\"freeze\"></animateMotion><animateMotion begin=\"af_2c4bea3ff19c4cd68f592dee08c5d321_19.end\" dur=\"1ms\" fill=\"remove\"></animateMotion><animateMotion from=\"43.63636363636363,-43.63636363636363\" to=\"43.63636363636363,-87.27272727272727\" dur=\" 0.005s\" begin=\"af_2c4bea3ff19c4cd68f592dee08c5d321_19.end\" fill=\"freeze\"></animateMotion><animateMotion begin=\"af_2c4bea3ff19c4cd68f592dee08c5d321_21.end\" dur=\"1ms\" fill=\"remove\"></animateMotion><animateMotion from=\"43.63636363636363,-87.27272727272727\" to=\"43.63636363636363,-130.9090909090909\" dur=\" 0.005s\" begin=\"af_2c4bea3ff19c4cd68f592dee08c5d321_21.end\" fill=\"freeze\"></animateMotion><animateMotion begin=\"af_2c4bea3ff19c4cd68f592dee08c5d321_23.end\" dur=\"1ms\" fill=\"remove\"></animateMotion><animateMotion from=\"43.63636363636363,-130.9090909090909\" to=\"43.63636363636363,-174.54545454545453\" dur=\" 0.005s\" begin=\"af_2c4bea3ff19c4cd68f592dee08c5d321_23.end\" fill=\"freeze\"></animateMotion><animateMotion begin=\"af_2c4bea3ff19c4cd68f592dee08c5d321_25.end\" dur=\"1ms\" fill=\"remove\"></animateMotion><animateMotion from=\"43.63636363636363,-174.54545454545453\" to=\"87.27272727272727,0.0\" dur=\" 0.027s\" begin=\"af_2c4bea3ff19c4cd68f592dee08c5d321_25.end\" fill=\"freeze\"></animateMotion><animateMotion begin=\"af_2c4bea3ff19c4cd68f592dee08c5d321_27.end\" dur=\"1ms\" fill=\"remove\"></animateMotion><animateMotion from=\"87.27272727272727,0.0\" to=\"87.27272727272727,-43.63636363636363\" dur=\" 0.005s\" begin=\"af_2c4bea3ff19c4cd68f592dee08c5d321_27.end\" fill=\"freeze\"></animateMotion><animateMotion begin=\"af_2c4bea3ff19c4cd68f592dee08c5d321_29.end\" dur=\"1ms\" fill=\"remove\"></animateMotion><animateMotion from=\"87.27272727272727,-43.63636363636363\" to=\"87.27272727272727,-87.27272727272727\" dur=\" 0.005s\" begin=\"af_2c4bea3ff19c4cd68f592dee08c5d321_29.end\" fill=\"freeze\"></animateMotion><animateMotion begin=\"af_2c4bea3ff19c4cd68f592dee08c5d321_31.end\" dur=\"1ms\" fill=\"remove\"></animateMotion><animateMotion from=\"87.27272727272727,-87.27272727272727\" to=\"87.27272727272727,-130.9090909090909\" dur=\" 0.005s\" begin=\"af_2c4bea3ff19c4cd68f592dee08c5d321_31.end\" fill=\"freeze\"></animateMotion><animateMotion begin=\"af_2c4bea3ff19c4cd68f592dee08c5d321_33.end\" dur=\"1ms\" fill=\"remove\"></animateMotion><animateMotion from=\"87.27272727272727,-130.9090909090909\" to=\"87.27272727272727,-174.54545454545453\" dur=\" 0.005s\" begin=\"af_2c4bea3ff19c4cd68f592dee08c5d321_33.end\" fill=\"freeze\"></animateMotion><animate id=\"af_2c4bea3ff19c4cd68f592dee08c5d321_36\" begin=\"af_2c4bea3ff19c4cd68f592dee08c5d321_35.end\" dur=\"1ms\" fill=\"freeze\" attributename=\"opacity\" attributetype=\"XML\" from=\"1\" to=\"0\"></animate><animateMotion begin=\"af_2c4bea3ff19c4cd68f592dee08c5d321_36.end\" dur=\"1ms\" fill=\"remove\"></animateMotion><animateMotion from=\"87.27272727272727,-174.54545454545453\" to=\"87.27272727272727,-174.54545454545453\" dur=\"1ms\" begin=\"af_2c4bea3ff19c4cd68f592dee08c5d321_36.end\" fill=\"freeze\"></animateMotion></polygon></g></svg>"
          },
          "metadata": {}
        }
      ]
    },
    {
      "metadata": {
        "id": "i2e5s0dcpoaV"
      },
      "cell_type": "markdown",
      "source": [
        "</div>\n",
        "\n",
        "<div class = \"alert  alert-success\" style=\"border-left: 15px solid #3c763d;\">\n",
        "\n",
        "\n",
        "\n",
        "\n",
        "\n",
        "## B - Exercices <a name=\"ex\"></a>\n",
        "    \n",
        "</div>"
      ]
    },
    {
      "metadata": {
        "id": "VlVn8L3UpoaW"
      },
      "cell_type": "markdown",
      "source": [
        "<div style=\"border-left:5px solid #222222; border-radius: 10px; background-color:Gainsboro;padding:10px ;\">\n",
        "\n",
        "### Exercice 2\n",
        "\n",
        "Réaliser en utilisant deux boucles `for` imbriquées les figures suivantes :\n",
        "    \n",
        "<table>\n",
        "    <tr>\n",
        "        <td style=\"text-align: center\">Figure 3</td><td style=\"text-align: center\">Figure 4</td><td style=\"text-align: center\">Figure 5</td><td style=\"text-align: center\">Figure 6</td>\n",
        "    </tr>\n",
        "    <tr>\n",
        "        <td><img src =\"https://capytale2.ac-paris.fr/web/sites/default/files/2022/12-08/14-15-53/points4.JPG\" width=\"200\" heigth=\"200\"></td>\n",
        "        <td><img src =\"https://capytale2.ac-paris.fr/web/sites/default/files/2022/12-08/14-15-53/points5.JPG\" width=\"200\" heigth=\"200\"></td>\n",
        "        <td><img src =\"https://capytale2.ac-paris.fr/web/sites/default/files/2022/12-08/14-15-53/points6.JPG\" width=\"200\" heigth=\"200\"></td>\n",
        "        <td><img src =\"https://capytale2.ac-paris.fr/web/sites/default/files/2022/12-08/14-15-53/points7.JPG\" width=\"200\" heigth=\"200\"></td>\n",
        "    </tr>\n",
        "    \n",
        "</table>\n",
        "\n",
        "\n",
        "</div>"
      ]
    },
    {
      "metadata": {
        "trusted": false,
        "id": "Drmo-byOpoaW"
      },
      "cell_type": "code",
      "source": [
        "# Figure 3"
      ],
      "execution_count": null,
      "outputs": []
    },
    {
      "metadata": {
        "trusted": false,
        "id": "vf4h4cFfpoaX"
      },
      "cell_type": "code",
      "source": [
        "# Figure 4"
      ],
      "execution_count": null,
      "outputs": []
    },
    {
      "metadata": {
        "trusted": false,
        "id": "VvnqP2LXpoaX"
      },
      "cell_type": "code",
      "source": [
        "# Figure 5"
      ],
      "execution_count": null,
      "outputs": []
    },
    {
      "metadata": {
        "trusted": false,
        "id": "l2uIN5ZbpoaY"
      },
      "cell_type": "code",
      "source": [
        "# Figure 6"
      ],
      "execution_count": null,
      "outputs": []
    },
    {
      "metadata": {
        "id": "8lA51QwepoaY"
      },
      "cell_type": "markdown",
      "source": [
        "<div class = \"alert alert-info\" style=\"border-left:15px solid #31708f;\">\n",
        "\n",
        "# 3 - Utilisation de la variable d'une boucle dans l'autre <a name=\"uvba\"></a>\n",
        "    \n",
        "</div>\n",
        "\n",
        "<div class = \"alert  alert-success\" style=\"border-left: 15px solid #3c763d;\">\n",
        "\n",
        "\n",
        "\n",
        "\n",
        "\n",
        "## A - Un exemple <a name=\"uex2\"></a>\n",
        "    \n",
        "</div>\n",
        "\n",
        "Nous voulons réaliser le dessin suivant :\n",
        "\n",
        "<img src =\"https://capytale2.ac-paris.fr/web/sites/default/files/2022/12-08/14-24-18/points8.JPG\" width=\"200\" heigth=\"200\">\n",
        "\n",
        "Il s'agit donc de réaliser cinq \"colonnes\" :\n",
        "\n",
        "* Première colonne : 1 point\n",
        "* Deuxième colonne : 2 points\n",
        "* .....\n",
        "* Cinquième colonne : 5 points\n",
        "\n",
        "Comment procéder ?\n",
        "\n",
        "Nous allons utiliser deux boucles `for`imbriquées, et dans le range() de la deuxième boucle, utiliser la valeur de la variable de boucle de la première boucle\n",
        "\n",
        "Exécutez le code suivant et essayez de comprendre :"
      ]
    },
    {
      "metadata": {
        "trusted": false,
        "id": "njCm05gfpoaY"
      },
      "cell_type": "code",
      "source": [
        "from turtle import * # Importation de la bibliothèque turtle\n",
        "\n",
        "setworldcoordinates(0, 0, 11, 11)\n",
        "bgcolor(\"yellow\")\n",
        "width(3)\n",
        "up()\n",
        "\n",
        "\n",
        "for i in range(5):      # Colonnes de 0 à 2\n",
        "    for j in range(i+1):  # Lignes de 0 à 4\n",
        "        goto(i,j)\n",
        "        down()\n",
        "        dot(20,\"red\")\n",
        "        up()\n",
        "\n",
        "hideturtle()\n",
        "\n",
        "done()"
      ],
      "execution_count": null,
      "outputs": []
    },
    {
      "metadata": {
        "trusted": true,
        "id": "mmboVVHOpoaZ"
      },
      "cell_type": "markdown",
      "source": [
        "<div class = \"alert  alert-success\" style=\"border-left: 15px solid #3c763d;\">\n",
        "\n",
        "\n",
        "\n",
        "\n",
        "\n",
        "## B - Exercices <a name=\"ex2\"></a>\n",
        "    \n",
        "</div>"
      ]
    },
    {
      "metadata": {
        "id": "zfmubUD6poaZ"
      },
      "cell_type": "markdown",
      "source": [
        "<div style=\"border-left:5px solid #222222; border-radius: 10px; background-color:Gainsboro;padding:10px ;\">\n",
        "\n",
        "### Exercice 3\n",
        "\n",
        "Réaliser en utilisant deux boucles `for` imbriquées les figures suivantes :\n",
        "    \n",
        "<table>\n",
        "    <tr>\n",
        "        <td style=\"text-align: center\">Figure 7</td><td style=\"text-align: center\">Figure 8</td><td style=\"text-align: center\">Figure 9</td><td style=\"text-align: center\">Figure 10</td>\n",
        "    </tr>\n",
        "    <tr>\n",
        "        <td><img src =\"https://capytale2.ac-paris.fr/web/sites/default/files/2022/12-08/14-34-17/points9.JPG\" width=\"200\" heigth=\"200\"></td>\n",
        "        <td><img src =\"https://capytale2.ac-paris.fr/web/sites/default/files/2022/12-08/14-34-17/points10.JPG\" width=\"200\" heigth=\"200\"></td>\n",
        "        <td><img src =\"https://capytale2.ac-paris.fr/web/sites/default/files/2022/12-08/14-35-05/points11.JPG\" width=\"200\" heigth=\"200\"></td>\n",
        "        <td><img src =\"https://capytale2.ac-paris.fr/web/sites/default/files/2022/12-08/14-35-05/points12.JPG\" width=\"200\" heigth=\"200\"></td>\n",
        "    </tr>\n",
        "    \n",
        "</table>\n",
        "\n",
        "\n",
        "</div>"
      ]
    },
    {
      "metadata": {
        "trusted": false,
        "id": "q91OcgYfpoaa"
      },
      "cell_type": "code",
      "source": [
        "# Figure 7"
      ],
      "execution_count": null,
      "outputs": []
    },
    {
      "metadata": {
        "trusted": false,
        "id": "XSng8Gj2poaa"
      },
      "cell_type": "code",
      "source": [
        "# Figure 8"
      ],
      "execution_count": null,
      "outputs": []
    },
    {
      "metadata": {
        "trusted": false,
        "id": "-8bwd2Y1poaa"
      },
      "cell_type": "code",
      "source": [
        "# Figure 9"
      ],
      "execution_count": null,
      "outputs": []
    },
    {
      "metadata": {
        "trusted": false,
        "id": "0Su7_N4bpoab"
      },
      "cell_type": "code",
      "source": [
        "# Figure 10"
      ],
      "execution_count": null,
      "outputs": []
    }
  ],
  "metadata": {
    "kernelspec": {
      "name": "python3",
      "display_name": "Python 3",
      "language": "python"
    },
    "colab": {
      "provenance": [],
      "include_colab_link": true
    }
  },
  "nbformat": 4,
  "nbformat_minor": 0
}